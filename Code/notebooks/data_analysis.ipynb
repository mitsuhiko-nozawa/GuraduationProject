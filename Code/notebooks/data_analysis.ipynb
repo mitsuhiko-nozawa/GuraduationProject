{
 "cells": [
  {
   "cell_type": "code",
   "execution_count": 1,
   "metadata": {},
   "outputs": [],
   "source": [
    "import numpy as np\n",
    "import pandas as pd\n",
    "import sys\n",
    "sys.path.append('..')\n",
    "from preprocessing import data_loder\n",
    "import matplotlib.pyplot as plt\n",
    "\n"
   ]
  },
  {
   "cell_type": "markdown",
   "metadata": {
    "pycharm": {
     "name": "#%% md\n"
    }
   },
   "source": [
    "## load data"
   ]
  },
  {
   "cell_type": "code",
   "execution_count": 2,
   "metadata": {
    "pycharm": {
     "name": "#%%\n"
    }
   },
   "outputs": [
    {
     "name": "stdout",
     "output_type": "stream",
     "text": [
      "(2962, 4)\n",
      "Index(['reviewerID', 'asin', 'overall', 'reviewText'], dtype='object')\n"
     ]
    }
   ],
   "source": [
    "df = pd.read_csv(\"../../Dataset/processed/AMAZON_FASHION_5.csv\")\n",
    "print(df.shape)\n",
    "print(df.columns)"
   ]
  },
  {
   "cell_type": "markdown",
   "metadata": {
    "pycharm": {
     "name": "#%% md\n"
    }
   },
   "source": [
    "## count of unique user"
   ]
  },
  {
   "cell_type": "code",
   "execution_count": 6,
   "metadata": {
    "pycharm": {
     "name": "#%%\n"
    }
   },
   "outputs": [
    {
     "name": "stdout",
     "output_type": "stream",
     "text": [
      "749233\n"
     ]
    }
   ],
   "source": [
    "print(df.groupby(\"reviewerID\").count().shape[0])\n"
   ]
  },
  {
   "cell_type": "code",
   "execution_count": null,
   "outputs": [],
   "source": [
    "print(df.groupby(\"asin\").count().shape[0])"
   ],
   "metadata": {
    "collapsed": false,
    "pycharm": {
     "name": "#%%\n"
    }
   }
  },
  {
   "cell_type": "code",
   "execution_count": 7,
   "metadata": {},
   "outputs": [
    {
     "name": "stdout",
     "output_type": "stream",
     "text": [
      "186189\n"
     ]
    }
   ],
   "source": [
    "## number of review per user"
   ]
  },
  {
   "cell_type": "markdown",
   "metadata": {
    "pycharm": {
     "name": "#%% md\n"
    }
   },
   "source": [
    "## number of review per user"
   ]
  },
  {
   "cell_type": "code",
   "execution_count": 4,
   "metadata": {
    "pycharm": {
     "name": "#%%\n"
    }
   },
   "outputs": [
    {
     "name": "stdout",
     "output_type": "stream",
     "text": [
      "7.822660098522167\n",
      "AxesSubplot(0.125,0.125;0.775x0.755)\n"
     ]
    },
    {
     "data": {
      "image/png": "[encoded data removed]",
      "text/plain": [
       "<Figure size 432x288 with 1 Axes>"
      ]
     },
     "metadata": {
      "needs_background": "light"
     },
     "output_type": "display_data"
    }
   ],
   "source": [
    "print(df.groupby(\"reviewerID\")[\"overall\"].count().mean())\n",
    "print(df.groupby(\"reviewerID\")[\"overall\"].count().hist())"
   ]
  },
  {
   "cell_type": "markdown",
   "metadata": {
    "pycharm": {
     "name": "#%% md\n"
    }
   },
   "source": [
    "## delete unnecessary column"
   ]
  },
  {
   "cell_type": "code",
   "execution_count": 5,
   "metadata": {
    "pycharm": {
     "name": "#%%\n"
    }
   },
   "outputs": [
    {
     "name": "stdout",
     "output_type": "stream",
     "text": [
      "Index(['overall', 'reviewerID', 'asin', 'reviewText'], dtype='object')\n"
     ]
    }
   ],
   "source": [
    "drop_cols = [\n",
    "    'verified', 'reviewTime', 'style',\n",
    "    'reviewerName', 'summary', 'unixReviewTime', 'vote',\n",
    "    'image'\n",
    "]\n",
    "for col in drop_cols:\n",
    "    df.drop(col, axis=1, inplace=True)\n",
    "\n",
    "print(df.columns)"
   ]
  },
  {
   "cell_type": "markdown",
   "metadata": {
    "pycharm": {
     "name": "#%% md\n"
    }
   },
   "source": [
    "## Missing value"
   ]
  },
  {
   "cell_type": "code",
   "execution_count": 6,
   "metadata": {
    "pycharm": {
     "name": "#%%\n"
    }
   },
   "outputs": [
    {
     "data": {
      "text/plain": [
       "overall        0\n",
       "reviewerID     0\n",
       "asin           0\n",
       "reviewText    16\n",
       "dtype: int64"
      ]
     },
     "execution_count": 6,
     "metadata": {},
     "output_type": "execute_result"
    }
   ],
   "source": [
    "df.isnull().sum()\n"
   ]
  },
  {
   "cell_type": "code",
   "execution_count": 7,
   "metadata": {
    "pycharm": {
     "name": "#%%\n"
    }
   },
   "outputs": [
    {
     "name": "stdout",
     "output_type": "stream",
     "text": [
      "   overall     reviewerID        asin                reviewText\n",
      "0      5.0  ALJ66O1Y6SLHA  B000K2PJ4K  Great product and price!\n",
      "1      5.0  ALJ66O1Y6SLHA  B000K2PJ4K  Great product and price!\n",
      "2      5.0  ALJ66O1Y6SLHA  B000K2PJ4K  Great product and price!\n",
      "3      5.0  ALJ66O1Y6SLHA  B000K2PJ4K  Great product and price!\n",
      "4      5.0  ALJ66O1Y6SLHA  B000K2PJ4K  Great product and price!\n"
     ]
    }
   ],
   "source": [
    "df_ = df\n",
    "\n",
    "df_.iloc[[0, 1, 3], df_.columns.get_loc(\"overall\")] = df_.iloc[[0, 1, 3], df_.columns.get_loc(\"overall\")].values\n",
    "\n",
    "print(df_.head())\n",
    "\n",
    "\n",
    "\n"
   ]
  },
  {
   "cell_type": "code",
   "execution_count": 8,
   "metadata": {
    "pycharm": {
     "name": "#%%\n"
    }
   },
   "outputs": [
    {
     "data": {
      "text/plain": [
       "array([5., 5., 5.])"
      ]
     },
     "execution_count": 8,
     "metadata": {},
     "output_type": "execute_result"
    }
   ],
   "source": [
    "df_.iloc[[0, 1, 3], df_.columns.get_loc(\"overall\")].values\n",
    "\n"
   ]
  },
  {
   "cell_type": "code",
   "execution_count": 9,
   "metadata": {
    "pycharm": {
     "name": "#%%\n"
    }
   },
   "outputs": [
    {
     "name": "stdout",
     "output_type": "stream",
     "text": [
      "       reviewerID        asin  overall\n",
      "0  A10RXRZE0TAKPU  B0014F7B98      4.0\n",
      "1  A10RXRZE0TAKPU  B001IKJOLW      4.0\n",
      "2  A10RXRZE0TAKPU  B0058YEJ5K      4.0\n",
      "3  A10RXRZE0TAKPU  B005AGO4LU      4.0\n",
      "4  A10RXRZE0TAKPU  B0092UF54A      4.0\n",
      "5  A10RXRZE0TAKPU  B009MA34NY      4.0\n",
      "6  A10RXRZE0TAKPU  B010RRWKT4      4.0\n",
      "7  A10RXRZE0TAKPU  B014IBJKNO      4.0\n",
      "8  A10WPKF2VH1JWY  B0014F7B98      4.0\n",
      "9  A10WPKF2VH1JWY  B001IKJOLW      4.0\n"
     ]
    }
   ],
   "source": [
    "df_new = df.groupby([\"reviewerID\", \"asin\"], as_index=False).mean()\n",
    "df_new = pd.DataFrame(df_new)\n",
    "print(df_new.head(10))\n",
    "\n"
   ]
  },
  {
   "cell_type": "code",
   "execution_count": 10,
   "metadata": {
    "pycharm": {
     "name": "#%%\n"
    }
   },
   "outputs": [
    {
     "name": "stdout",
     "output_type": "stream",
     "text": [
      "       reviewerID        asin  overall\n",
      "0  A10RXRZE0TAKPU  B0014F7B98      1.0\n",
      "1  A10RXRZE0TAKPU  B001IKJOLW      3.0\n",
      "2  A10RXRZE0TAKPU  B0058YEJ5K      4.0\n",
      "3  A10RXRZE0TAKPU  B005AGO4LU      2.0\n",
      "4  A10RXRZE0TAKPU  B0092UF54A      4.0\n",
      "5  A10RXRZE0TAKPU  B009MA34NY      4.0\n",
      "6  A10RXRZE0TAKPU  B010RRWKT4      4.0\n",
      "7  A10RXRZE0TAKPU  B014IBJKNO      4.0\n",
      "8  A10WPKF2VH1JWY  B0014F7B98      4.0\n",
      "9  A10WPKF2VH1JWY  B001IKJOLW      4.0\n"
     ]
    }
   ],
   "source": [
    "df_new.iloc[[0, 3, 1], 2] = [1, 2, 3]\n",
    "print(df_new.head(10))\n",
    "\n",
    "\n"
   ]
  },
  {
   "cell_type": "code",
   "execution_count": 24,
   "metadata": {
    "pycharm": {
     "name": "#%%\n"
    }
   },
   "outputs": [
    {
     "name": "stdout",
     "output_type": "stream",
     "text": [
      "[[1 2 3 4 5]\n",
      " [6 5 4 3 2]]\n"
     ]
    }
   ],
   "source": [
    "import h5py\n",
    "import numpy as np\n",
    "\n",
    "a = np.array([[1, 2, 3, 4, 5], [6, 5, 4, 3, 2]])\n",
    "b = [1, 2, 3, 4, 5]\n",
    "print(a)"
   ]
  },
  {
   "cell_type": "code",
   "execution_count": 25,
   "metadata": {
    "pycharm": {
     "name": "#%%\n"
    }
   },
   "outputs": [],
   "source": [
    "fname = './sample.hdf5'\n",
    "\n",
    "with h5py.File(fname, 'w') as f:\n",
    "    f.create_dataset('a', data=a)\n",
    "    f.create_dataset('b', data=b)\n"
   ]
  },
  {
   "cell_type": "code",
   "execution_count": 33,
   "metadata": {
    "pycharm": {
     "name": "#%%\n"
    }
   },
   "outputs": [
    {
     "name": "stdout",
     "output_type": "stream",
     "text": [
      "<KeysViewHDF5 ['a', 'b']>\n"
     ]
    },
    {
     "name": "stderr",
     "output_type": "stream",
     "text": [
      "<ipython-input-33-baa5f1392e14>:5: H5pyDeprecationWarning: dataset.value has been deprecated. Use dataset[()] instead.\n",
      "  a = infh['a'].value\n",
      "<ipython-input-33-baa5f1392e14>:6: H5pyDeprecationWarning: dataset.value has been deprecated. Use dataset[()] instead.\n",
      "  b = infh['b'].value\n"
     ]
    }
   ],
   "source": [
    "infh = h5py.File(fname, 'r')\n",
    "print(infh.keys())\n",
    "## [u'expmat', u'gene_name', u'sample_name']\n",
    "\n",
    "a = infh['a'].value\n",
    "b = infh['b'].value\n",
    "\n",
    "infh.close()\n"
   ]
  },
  {
   "cell_type": "code",
   "execution_count": 34,
   "metadata": {
    "pycharm": {
     "name": "#%%\n"
    }
   },
   "outputs": [
    {
     "name": "stdout",
     "output_type": "stream",
     "text": [
      "[[1 2 3 4 5]\n",
      " [6 5 4 3 2]]\n",
      "[1 2 3 4 5]\n"
     ]
    }
   ],
   "source": [
    "print(a)\n",
    "print(b)"
   ]
  },
  {
   "cell_type": "code",
   "execution_count": 1,
   "metadata": {
    "pycharm": {
     "name": "#%%\n"
    }
   },
   "outputs": [],
   "source": [
    "li = [1, 2, 3]\n",
    "\n"
   ]
  },
  {
   "cell_type": "code",
   "execution_count": 2,
   "metadata": {
    "pycharm": {
     "name": "#%%\n"
    }
   },
   "outputs": [
    {
     "data": {
      "text/plain": [
       "3"
      ]
     },
     "execution_count": 2,
     "metadata": {},
     "output_type": "execute_result"
    }
   ],
   "source": [
    "li.pop(-1)"
   ]
  },
  {
   "cell_type": "code",
   "execution_count": 3,
   "metadata": {
    "pycharm": {
     "name": "#%%\n"
    }
   },
   "outputs": [
    {
     "data": {
      "text/plain": [
       "[1, 2]"
      ]
     },
     "execution_count": 3,
     "metadata": {},
     "output_type": "execute_result"
    }
   ],
   "source": [
    "li"
   ]
  },
  {
   "cell_type": "code",
   "execution_count": null,
   "metadata": {
    "pycharm": {
     "name": "#%%\n"
    }
   },
   "outputs": [],
   "source": [
    "\n"
   ]
  }
 ],
 "metadata": {
  "kernelspec": {
   "display_name": "Python 3",
   "language": "python",
   "name": "python3"
  },
  "language_info": {
   "codemirror_mode": {
    "name": "ipython",
    "version": 3
   },
   "file_extension": ".py",
   "mimetype": "text/x-python",
   "name": "python",
   "nbconvert_exporter": "python",
   "pygments_lexer": "ipython3",
   "version": "3.8.3"
  }
 },
 "nbformat": 4,
 "nbformat_minor": 1
}