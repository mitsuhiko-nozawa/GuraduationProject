{
 "cells": [
  {
   "cell_type": "code",
   "execution_count": 1,
   "metadata": {
    "collapsed": true
   },
   "outputs": [],
   "source": [
    "# gensim setting\n",
    "import gzip\n",
    "import numpy as np\n",
    "import pandas as pd\n",
    "from gensim.models import KeyedVectors"
   ]
  },
  {
   "cell_type": "code",
   "execution_count": 2,
   "outputs": [
    {
     "name": "stderr",
     "output_type": "stream",
     "text": [
      "/Users/nozawamitsuhiko/.pyenv/versions/anaconda3-4.2.0/envs/PyCharmProject/lib/python3.6/site-packages/IPython/core/interactiveshell.py:3063: DtypeWarning: Columns (1) have mixed types.Specify dtype option on import or set low_memory=False.\n",
      "  interactivity=interactivity, compiler=compiler, result=result)\n"
     ]
    }
   ],
   "source": [
    "df = pd.read_csv(\"../../Dataset/processed/yelp.csv.gz\")"
   ],
   "metadata": {
    "collapsed": false,
    "pycharm": {
     "name": "#%%\n"
    }
   }
  },
  {
   "cell_type": "code",
   "execution_count": 2,
   "outputs": [
    {
     "name": "stdout",
     "output_type": "stream",
     "text": [
      "df shape is  (3176, 4)\n"
     ]
    }
   ],
   "source": [
    "df_ = pd.read_csv(\"../../AMAZON_FASHION_5.csv\")\n",
    "print(\"df shape is \", df_.shape)"
   ],
   "metadata": {
    "collapsed": false,
    "pycharm": {
     "name": "#%%\n"
    }
   }
  },
  {
   "cell_type": "code",
   "execution_count": 3,
   "outputs": [],
   "source": [
    "temp = df_.copy()\n",
    "df_ = pd.DataFrame(df_.groupby([\"reviewerID\", \"asin\"], as_index=False).mean())\n",
    "\n",
    "drop_users = df_.groupby([\"reviewerID\"]).filter(lambda group : group[\"overall\"].count() < 5)[\"reviewerID\"].unique()\n",
    "drop_items = df_.groupby([\"asin\"]).filter(lambda group : group[\"overall\"].count() < 5)[\"asin\"].unique()"
   ],
   "metadata": {
    "collapsed": false,
    "pycharm": {
     "name": "#%%\n"
    }
   }
  },
  {
   "cell_type": "code",
   "execution_count": 4,
   "outputs": [
    {
     "name": "stdout",
     "output_type": "stream",
     "text": [
      "df shape is  (2968, 3)\n"
     ]
    }
   ],
   "source": [
    "for userid in drop_users:\n",
    "    df_ = df_[df_[\"reviewerID\"] != userid]\n",
    "for itemid in drop_items:\n",
    "    df_ = df_[df_[\"reviewerID\"] != itemid]\n",
    "print(\"df shape is \", df_.shape)"
   ],
   "metadata": {
    "collapsed": false,
    "pycharm": {
     "name": "#%%\n"
    }
   }
  },
  {
   "cell_type": "code",
   "execution_count": null,
   "outputs": [],
   "source": [
    "for idx, row in df_.iterrows():\n",
    "    userid = row[\"reviewerID\"]\n",
    "    itemid = row[\"asin\"]\n",
    "    tmp = temp[temp[\"reviewerID\"] == userid][temp[\"asin\"] == itemid].iloc[0]\n",
    "    text = tmp[\"reviewText\"]\n",
    "    overall = tmp[\"overall\"]\n",
    "    df_.at[idx, \"reviewText\"] = text\n",
    "    df_.at[idx, \"overall\"] = overall"
   ],
   "metadata": {
    "collapsed": false,
    "pycharm": {
     "name": "#%%\n"
    }
   }
  },
  {
   "cell_type": "code",
   "execution_count": null,
   "outputs": [],
   "source": [],
   "metadata": {
    "collapsed": false,
    "pycharm": {
     "name": "#%%\n"
    }
   }
  },
  {
   "cell_type": "code",
   "execution_count": 15,
   "outputs": [
    {
     "data": {
      "text/plain": "   overall     reviewerID        asin                reviewText\n0      5.0  ALJ66O1Y6SLHA  B000K2PJ4K  Great product and price!\n1      5.0  ALJ66O1Y6SLHA  B000K2PJ4K  Great product and price!\n2      5.0  ALJ66O1Y6SLHA  B000K2PJ4K  Great product and price!\n3      5.0  ALJ66O1Y6SLHA  B000K2PJ4K  Great product and price!\n4      5.0  ALJ66O1Y6SLHA  B000K2PJ4K  Great product and price!",
      "text/html": "<div>\n<style scoped>\n    .dataframe tbody tr th:only-of-type {\n        vertical-align: middle;\n    }\n\n    .dataframe tbody tr th {\n        vertical-align: top;\n    }\n\n    .dataframe thead th {\n        text-align: right;\n    }\n</style>\n<table border=\"1\" class=\"dataframe\">\n  <thead>\n    <tr style=\"text-align: right;\">\n      <th></th>\n      <th>overall</th>\n      <th>reviewerID</th>\n      <th>asin</th>\n      <th>reviewText</th>\n    </tr>\n  </thead>\n  <tbody>\n    <tr>\n      <th>0</th>\n      <td>5.0</td>\n      <td>ALJ66O1Y6SLHA</td>\n      <td>B000K2PJ4K</td>\n      <td>Great product and price!</td>\n    </tr>\n    <tr>\n      <th>1</th>\n      <td>5.0</td>\n      <td>ALJ66O1Y6SLHA</td>\n      <td>B000K2PJ4K</td>\n      <td>Great product and price!</td>\n    </tr>\n    <tr>\n      <th>2</th>\n      <td>5.0</td>\n      <td>ALJ66O1Y6SLHA</td>\n      <td>B000K2PJ4K</td>\n      <td>Great product and price!</td>\n    </tr>\n    <tr>\n      <th>3</th>\n      <td>5.0</td>\n      <td>ALJ66O1Y6SLHA</td>\n      <td>B000K2PJ4K</td>\n      <td>Great product and price!</td>\n    </tr>\n    <tr>\n      <th>4</th>\n      <td>5.0</td>\n      <td>ALJ66O1Y6SLHA</td>\n      <td>B000K2PJ4K</td>\n      <td>Great product and price!</td>\n    </tr>\n  </tbody>\n</table>\n</div>"
     },
     "execution_count": 15,
     "metadata": {},
     "output_type": "execute_result"
    }
   ],
   "source": [
    "temp.head()"
   ],
   "metadata": {
    "collapsed": false,
    "pycharm": {
     "name": "#%%\n"
    }
   }
  },
  {
   "cell_type": "code",
   "execution_count": 10,
   "outputs": [
    {
     "name": "stderr",
     "output_type": "stream",
     "text": [
      "/Users/nozawamitsuhiko/.pyenv/versions/anaconda3-4.2.0/envs/PyCharmProject/lib/python3.6/site-packages/ipykernel_launcher.py:1: UserWarning: Boolean Series key will be reindexed to match DataFrame index.\n",
      "  \"\"\"Entry point for launching an IPython kernel.\n"
     ]
    },
    {
     "data": {
      "text/plain": "      overall      reviewerID        asin  \\\n2380      5.0  A135SGOQMVWABQ  B010RRWKT4   \n\n                                        reviewText  \n2380  I wear these everyday to work, the gym, etc.  ",
      "text/html": "<div>\n<style scoped>\n    .dataframe tbody tr th:only-of-type {\n        vertical-align: middle;\n    }\n\n    .dataframe tbody tr th {\n        vertical-align: top;\n    }\n\n    .dataframe thead th {\n        text-align: right;\n    }\n</style>\n<table border=\"1\" class=\"dataframe\">\n  <thead>\n    <tr style=\"text-align: right;\">\n      <th></th>\n      <th>overall</th>\n      <th>reviewerID</th>\n      <th>asin</th>\n      <th>reviewText</th>\n    </tr>\n  </thead>\n  <tbody>\n    <tr>\n      <th>2380</th>\n      <td>5.0</td>\n      <td>A135SGOQMVWABQ</td>\n      <td>B010RRWKT4</td>\n      <td>I wear these everyday to work, the gym, etc.</td>\n    </tr>\n  </tbody>\n</table>\n</div>"
     },
     "execution_count": 10,
     "metadata": {},
     "output_type": "execute_result"
    }
   ],
   "source": [
    "temp[temp[\"reviewerID\"] == \"A135SGOQMVWABQ\"][temp[\"asin\"] == \"B010RRWKT4\"][]"
   ],
   "metadata": {
    "collapsed": false,
    "pycharm": {
     "name": "#%%\n"
    }
   }
  },
  {
   "cell_type": "code",
   "execution_count": 17,
   "outputs": [
    {
     "data": {
      "text/plain": "overall                              5\nreviewerID               ALJ66O1Y6SLHA\nasin                        B000K2PJ4K\nreviewText    Great product and price!\nName: 0, dtype: object"
     },
     "execution_count": 17,
     "metadata": {},
     "output_type": "execute_result"
    }
   ],
   "source": [
    "temp.loc[0]"
   ],
   "metadata": {
    "collapsed": false,
    "pycharm": {
     "name": "#%%\n"
    }
   }
  },
  {
   "cell_type": "code",
   "execution_count": 5,
   "outputs": [
    {
     "name": "stdout",
     "output_type": "stream",
     "text": [
      "df shape is  (2962, 4)\n"
     ]
    }
   ],
   "source": [
    "df1 = pd.read_csv(\"../../Dataset/processed/AMAZON_FASHION_5.csv\")\n",
    "print(\"df shape is \", df1.shape)"
   ],
   "metadata": {
    "collapsed": false,
    "pycharm": {
     "name": "#%%\n"
    }
   }
  },
  {
   "cell_type": "code",
   "execution_count": 6,
   "outputs": [
    {
     "name": "stdout",
     "output_type": "stream",
     "text": [
      "df shape is  (883636, 4)\n"
     ]
    }
   ],
   "source": [
    "df1 = pd.read_csv(\"../../AMAZON_FASHION.csv\")\n",
    "print(\"df shape is \", df1.shape)\n",
    "\n",
    "df2 = df1.copy()\n",
    "df1 = pd.DataFrame(df1.groupby([\"reviewerID\", \"asin\"], as_index=False).mean())"
   ],
   "metadata": {
    "collapsed": false,
    "pycharm": {
     "name": "#%%\n"
    }
   }
  },
  {
   "cell_type": "code",
   "execution_count": 7,
   "outputs": [],
   "source": [
    "drop_users = df1.groupby([\"reviewerID\"]).filter(lambda group : group[\"overall\"].count() < 5)[\"reviewerID\"].unique()\n",
    "drop_items = df1.groupby([\"asin\"]).filter(lambda group : group[\"overall\"].count() < 5)[\"asin\"].unique()"
   ],
   "metadata": {
    "collapsed": false,
    "pycharm": {
     "name": "#%%\n"
    }
   }
  },
  {
   "cell_type": "code",
   "execution_count": null,
   "outputs": [],
   "source": [
    "for userid in drop_users:\n",
    "    df1 = df1[df1[\"reviewerID\"] != userid]\n",
    "for itemid in drop_items:\n",
    "    df1 = df1[df1[\"asin\"] != itemid]\n",
    "print(\"df shape is \", df_.shape)"
   ],
   "metadata": {
    "collapsed": false,
    "pycharm": {
     "name": "#%%\n",
     "is_executing": true
    }
   }
  },
  {
   "cell_type": "code",
   "execution_count": 10,
   "outputs": [
    {
     "name": "stdout",
     "output_type": "stream",
     "text": [
      "3466\n",
      "30119\n"
     ]
    }
   ],
   "source": [
    "print(len(df1[\"reviewerID\"].unique()) - len(drop_users))\n",
    "print(len(df1[\"asin\"].unique()) - len(drop_items))"
   ],
   "metadata": {
    "collapsed": false,
    "pycharm": {
     "name": "#%%\n"
    }
   }
  },
  {
   "cell_type": "code",
   "execution_count": null,
   "outputs": [],
   "source": [],
   "metadata": {
    "collapsed": false,
    "pycharm": {
     "name": "#%%\n"
    }
   }
  },
  {
   "cell_type": "code",
   "execution_count": null,
   "outputs": [],
   "source": [],
   "metadata": {
    "collapsed": false,
    "pycharm": {
     "name": "#%%\n"
    }
   }
  },
  {
   "cell_type": "code",
   "execution_count": null,
   "outputs": [],
   "source": [],
   "metadata": {
    "collapsed": false,
    "pycharm": {
     "name": "#%%\n"
    }
   }
  },
  {
   "cell_type": "code",
   "execution_count": 12,
   "outputs": [
    {
     "name": "stdout",
     "output_type": "stream",
     "text": [
      "2295\n",
      "423\n"
     ]
    }
   ],
   "source": [
    "temp = pd.read_csv(\"../../Dataset/processed/AMAZON_FASHION.csv\")\n",
    "print(len(temp[\"reviewerID\"].unique()))\n",
    "print(len(temp[\"asin\"].unique()))\n"
   ],
   "metadata": {
    "collapsed": false,
    "pycharm": {
     "name": "#%%\n"
    }
   }
  },
  {
   "cell_type": "code",
   "execution_count": 2,
   "outputs": [
    {
     "name": "stderr",
     "output_type": "stream",
     "text": [
      "/Users/nozawamitsuhiko/.pyenv/versions/anaconda3-4.2.0/envs/PyCharmProject/lib/python3.6/site-packages/tensorflow/python/framework/dtypes.py:523: FutureWarning: Passing (type, 1) or '1type' as a synonym of type is deprecated; in a future version of numpy, it will be understood as (type, (1,)) / '(1,)type'.\n",
      "  _np_qint8 = np.dtype([(\"qint8\", np.int8, 1)])\n",
      "/Users/nozawamitsuhiko/.pyenv/versions/anaconda3-4.2.0/envs/PyCharmProject/lib/python3.6/site-packages/tensorflow/python/framework/dtypes.py:524: FutureWarning: Passing (type, 1) or '1type' as a synonym of type is deprecated; in a future version of numpy, it will be understood as (type, (1,)) / '(1,)type'.\n",
      "  _np_quint8 = np.dtype([(\"quint8\", np.uint8, 1)])\n",
      "/Users/nozawamitsuhiko/.pyenv/versions/anaconda3-4.2.0/envs/PyCharmProject/lib/python3.6/site-packages/tensorflow/python/framework/dtypes.py:525: FutureWarning: Passing (type, 1) or '1type' as a synonym of type is deprecated; in a future version of numpy, it will be understood as (type, (1,)) / '(1,)type'.\n",
      "  _np_qint16 = np.dtype([(\"qint16\", np.int16, 1)])\n",
      "/Users/nozawamitsuhiko/.pyenv/versions/anaconda3-4.2.0/envs/PyCharmProject/lib/python3.6/site-packages/tensorflow/python/framework/dtypes.py:526: FutureWarning: Passing (type, 1) or '1type' as a synonym of type is deprecated; in a future version of numpy, it will be understood as (type, (1,)) / '(1,)type'.\n",
      "  _np_quint16 = np.dtype([(\"quint16\", np.uint16, 1)])\n",
      "/Users/nozawamitsuhiko/.pyenv/versions/anaconda3-4.2.0/envs/PyCharmProject/lib/python3.6/site-packages/tensorflow/python/framework/dtypes.py:527: FutureWarning: Passing (type, 1) or '1type' as a synonym of type is deprecated; in a future version of numpy, it will be understood as (type, (1,)) / '(1,)type'.\n",
      "  _np_qint32 = np.dtype([(\"qint32\", np.int32, 1)])\n",
      "/Users/nozawamitsuhiko/.pyenv/versions/anaconda3-4.2.0/envs/PyCharmProject/lib/python3.6/site-packages/tensorflow/python/framework/dtypes.py:532: FutureWarning: Passing (type, 1) or '1type' as a synonym of type is deprecated; in a future version of numpy, it will be understood as (type, (1,)) / '(1,)type'.\n",
      "  np_resource = np.dtype([(\"resource\", np.ubyte, 1)])\n",
      "/Users/nozawamitsuhiko/.pyenv/versions/anaconda3-4.2.0/envs/PyCharmProject/lib/python3.6/site-packages/h5py/__init__.py:36: FutureWarning: Conversion of the second argument of issubdtype from `float` to `np.floating` is deprecated. In future, it will be treated as `np.float64 == np.dtype(float).type`.\n",
      "  from ._conv import register_converters as _register_converters\n"
     ]
    }
   ],
   "source": [
    "import numpy as np\n",
    "from tensorflow import keras\n",
    "from tensorflow.keras.models import Sequential, Model\n",
    "from tensorflow.keras.layers import Input, Dense, Dropout, Activation, Flatten\n",
    "from tensorflow.keras.layers import Conv1D, GlobalMaxPooling1D"
   ],
   "metadata": {
    "collapsed": false,
    "pycharm": {
     "name": "#%%\n"
    }
   }
  },
  {
   "cell_type": "code",
   "execution_count": 24,
   "outputs": [],
   "source": [
    "# ランダムな入力 (100, 30)\n",
    "x = np.random.rand(32, 100, 30)\n",
    "\n",
    "model = Sequential()\n",
    "model.add( Conv1D(100, 3, padding=\"valid\", activation=\"relu\", strides=1) )\n",
    "# shape (batch, 98, 100)\n",
    "model.add( GlobalMaxPooling1D() )\n",
    "# shape (batch, 100)\n",
    "model.add( Dense(1) )\n",
    "# shape (batch, 10)\n",
    "\n",
    "model.compile(loss=\"mean_squared_error\", optimizer=\"sgd\", metrics=[\"accuracy\"])\n"
   ],
   "metadata": {
    "collapsed": false,
    "pycharm": {
     "name": "#%%\n"
    }
   }
  },
  {
   "cell_type": "code",
   "execution_count": 25,
   "outputs": [
    {
     "name": "stdout",
     "output_type": "stream",
     "text": [
      "(5, 30)\n",
      "Train on 32 samples, validate on 16 samples\n",
      "Epoch 1/2\n",
      "32/32 [==============================] - 0s 13ms/step - loss: 1.3721 - acc: 0.0000e+00 - val_loss: 0.6394 - val_acc: 0.0000e+00\b\b\b\b\b\b\b\b\b\b\b\b\b\b\b\b\b\b\b\b\b\b\b\b\b\b\b\b\b\b\b\b\b\b\b\n",
      "Epoch 2/2\n",
      "32/32 [==============================] - 0s 2ms/step - loss: 3.3968 - acc: 0.0000e+00 - val_loss: 3.3904 - val_acc: 0.0000e+00\b\b\b\b\b\b\b\b\b\b\b\b\b\b\b\b\b\b\b\b\b\b\b\b\b\b\b\b\b\b\b\b\b\b\b\b\b\b\n"
     ]
    },
    {
     "data": {
      "text/plain": "<tensorflow.python.keras.callbacks.History at 0x146d244a8>"
     },
     "execution_count": 25,
     "metadata": {},
     "output_type": "execute_result"
    }
   ],
   "source": [
    "x = []\n",
    "for i in range(32):\n",
    "    x.append(np.random.randn(5, 30))\n",
    "x = np.array(x)\n",
    "print(x[0].shape)\n",
    "y=np.random.rand(32, 10)\n",
    "valx = np.random.rand(16, 100, 30)\n",
    "valy = np.random.randn(16, 1)\n",
    "model.fit(x, y, batch_size=1, epochs=2, validation_data=(valx, valy))\n",
    "\n",
    "\n",
    "\n",
    "\n",
    "\n"
   ],
   "metadata": {
    "collapsed": false,
    "pycharm": {
     "name": "#%%\n"
    }
   }
  },
  {
   "cell_type": "code",
   "execution_count": 26,
   "outputs": [],
   "source": [
    "test_x = np.random.rand(16, 100, 30)\n",
    "preds = model.predict(test_x)\n"
   ],
   "metadata": {
    "collapsed": false,
    "pycharm": {
     "name": "#%%\n"
    }
   }
  },
  {
   "cell_type": "code",
   "execution_count": 27,
   "outputs": [
    {
     "data": {
      "text/plain": "1.88399467007712"
     },
     "execution_count": 27,
     "metadata": {},
     "output_type": "execute_result"
    }
   ],
   "source": [
    "test_y = np.random.randn(16)\n",
    "\n",
    "np.sum((test_y-preds.reshape(-1))**2)/16"
   ],
   "metadata": {
    "collapsed": false,
    "pycharm": {
     "name": "#%%\n"
    }
   }
  },
  {
   "cell_type": "code",
   "execution_count": null,
   "outputs": [],
   "source": [
    "\n"
   ],
   "metadata": {
    "collapsed": false,
    "pycharm": {
     "name": "#%%\n"
    }
   }
  }
 ],
 "metadata": {
  "kernelspec": {
   "display_name": "Python 3",
   "language": "python",
   "name": "python3"
  },
  "language_info": {
   "codemirror_mode": {
    "name": "ipython",
    "version": 2
   },
   "file_extension": ".py",
   "mimetype": "text/x-python",
   "name": "python",
   "nbconvert_exporter": "python",
   "pygments_lexer": "ipython2",
   "version": "2.7.6"
  }
 },
 "nbformat": 4,
 "nbformat_minor": 0
}